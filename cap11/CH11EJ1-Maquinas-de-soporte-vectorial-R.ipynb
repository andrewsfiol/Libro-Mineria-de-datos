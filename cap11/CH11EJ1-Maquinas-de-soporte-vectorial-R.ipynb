{
 "cells": [
  {
   "cell_type": "markdown",
   "metadata": {},
   "source": [
    "<div style=\"width: 100%; clear: both;\">\n",
    "<div style=\"float: left; width: 50%;\">\n",
    "<img src=\"http://www.uoc.edu/portal/_resources/common/imatges/marca_UOC/UOC_Masterbrand.jpg\" align=\"left\">\n",
    "</div>\n",
    "<div style=\"float: right; width: 50%;\">\n",
    "<p style=\"margin: 0; padding-top: 22px; text-align:right;\"><a href=\"http://www.editorialuoc.cat/mineria-de-datos\" target=\"_blank\">Minería de datos: Modelos y algoritmos</a></p>\n",
    "<p style=\"margin: 0; text-align:right;\">Estudios de Informática, Multimedia y Telecomunicación</p>\n",
    "<p style=\"margin: 0; text-align:right; padding-button: 100px;\">Universitat Oberta de Catalunya (<b>UOC</b>)</p>\n",
    "</div>\n",
    "</div>\n",
    "<div style=\"width:100%;\">&nbsp;</div>"
   ]
  },
  {
   "cell_type": "markdown",
   "metadata": {
    "nbpresent": {
     "id": "ea6cb8e6-4d3d-45c8-abc9-44f65205068f"
    }
   },
   "source": [
    "# CH11EJ1 Máquinas de soporte vectorial"
   ]
  },
  {
   "cell_type": "markdown",
   "metadata": {},
   "source": [
    "En este ejemplo aprenderemos cómo utilizar las máquinas de soporte vectorial a partir del paquete de R `e1071`.\n",
    "\n",
    "Trabajaremos los distintos modelos de kernel: lineal, radial, polinomial y sigmoidal. También compararemos los resultados de trabajar con dos dimensiones o con todas."
   ]
  },
  {
   "cell_type": "markdown",
   "metadata": {},
   "source": [
    "## 1. Instalar los packages necesarios (en caso de no haberlo hecho anteriormente)"
   ]
  },
  {
   "cell_type": "code",
   "execution_count": 7,
   "metadata": {},
   "outputs": [],
   "source": [
    "if(!require(e1071)){\n",
    "    install.packages('e1071', repos='http://cran.es.r-project.org')\n",
    "    require(e1071)\n",
    "}\n",
    "set.seed(17)"
   ]
  },
  {
   "cell_type": "markdown",
   "metadata": {
    "nbpresent": {
     "id": "fafb1f54-b4ab-4c2e-bc0d-c723f2c6814d"
    }
   },
   "source": [
    "## 2. Carga de los datos"
   ]
  },
  {
   "cell_type": "code",
   "execution_count": 8,
   "metadata": {
    "nbpresent": {
     "id": "352d9955-18b6-49b7-a343-102b723bf3cd"
    }
   },
   "outputs": [
    {
     "data": {
      "text/plain": [
       "       V1          V2            V3               V4              V5       \n",
       " Min.   :   8423   N:151   Min.   :  1.00   Min.   :10.95   Min.   :10.38  \n",
       " 1st Qu.: 855745   R: 47   1st Qu.: 14.00   1st Qu.:15.05   1st Qu.:19.41  \n",
       " Median : 886339           Median : 39.50   Median :17.29   Median :21.75  \n",
       " Mean   :1990469           Mean   : 46.73   Mean   :17.41   Mean   :22.28  \n",
       " 3rd Qu.: 927996           3rd Qu.: 72.75   3rd Qu.:19.58   3rd Qu.:24.66  \n",
       " Max.   :9411300           Max.   :125.00   Max.   :27.22   Max.   :39.28  \n",
       "                                                                           \n",
       "       V6               V7               V8                V9         \n",
       " Min.   : 71.90   Min.   : 361.6   Min.   :0.07497   Min.   :0.04605  \n",
       " 1st Qu.: 98.16   1st Qu.: 702.5   1st Qu.:0.09390   1st Qu.:0.11020  \n",
       " Median :113.70   Median : 929.1   Median :0.10190   Median :0.13175  \n",
       " Mean   :114.86   Mean   : 970.0   Mean   :0.10268   Mean   :0.14265  \n",
       " 3rd Qu.:129.65   3rd Qu.:1193.5   3rd Qu.:0.11098   3rd Qu.:0.17220  \n",
       " Max.   :182.10   Max.   :2250.0   Max.   :0.14470   Max.   :0.31140  \n",
       "                                                                      \n",
       "      V10               V11               V12              V13         \n",
       " Min.   :0.02398   Min.   :0.02031   Min.   :0.1308   Min.   :0.05025  \n",
       " 1st Qu.:0.10685   1st Qu.:0.06367   1st Qu.:0.1741   1st Qu.:0.05672  \n",
       " Median :0.15135   Median :0.08607   Median :0.1893   Median :0.06171  \n",
       " Mean   :0.15624   Mean   :0.08678   Mean   :0.1928   Mean   :0.06271  \n",
       " 3rd Qu.:0.20050   3rd Qu.:0.10393   3rd Qu.:0.2093   3rd Qu.:0.06671  \n",
       " Max.   :0.42680   Max.   :0.20120   Max.   :0.3040   Max.   :0.09744  \n",
       "                                                                       \n",
       "      V14              V15              V16              V17        \n",
       " Min.   :0.1938   Min.   :0.3621   Min.   : 1.153   Min.   : 13.99  \n",
       " 1st Qu.:0.3882   1st Qu.:0.9213   1st Qu.: 2.743   1st Qu.: 35.37  \n",
       " Median :0.5333   Median :1.1685   Median : 3.767   Median : 58.45  \n",
       " Mean   :0.6033   Mean   :1.2645   Mean   : 4.255   Mean   : 70.23  \n",
       " 3rd Qu.:0.7509   3rd Qu.:1.4632   3rd Qu.: 5.213   3rd Qu.: 92.48  \n",
       " Max.   :1.8190   Max.   :3.5030   Max.   :13.280   Max.   :316.00  \n",
       "                                                                    \n",
       "      V18                V19                V20               V21          \n",
       " Min.   :0.002667   Min.   :0.007347   Min.   :0.01094   Min.   :0.005174  \n",
       " 1st Qu.:0.005001   1st Qu.:0.019803   1st Qu.:0.02681   1st Qu.:0.011423  \n",
       " Median :0.006193   Median :0.027880   Median :0.03691   Median :0.014175  \n",
       " Mean   :0.006762   Mean   :0.031199   Mean   :0.04075   Mean   :0.015099  \n",
       " 3rd Qu.:0.007973   3rd Qu.:0.038335   3rd Qu.:0.04897   3rd Qu.:0.017665  \n",
       " Max.   :0.031130   Max.   :0.135400   Max.   :0.14380   Max.   :0.039270  \n",
       "                                                                           \n",
       "      V22                V23                V24             V25       \n",
       " Min.   :0.007882   Min.   :0.001087   Min.   :12.84   Min.   :16.67  \n",
       " 1st Qu.:0.014795   1st Qu.:0.002748   1st Qu.:17.63   1st Qu.:26.21  \n",
       " Median :0.017905   Median :0.003719   Median :20.52   Median :30.14  \n",
       " Mean   :0.020555   Mean   :0.003987   Mean   :21.02   Mean   :30.14  \n",
       " 3rd Qu.:0.022880   3rd Qu.:0.004630   3rd Qu.:23.73   3rd Qu.:33.55  \n",
       " Max.   :0.060410   Max.   :0.012560   Max.   :35.13   Max.   :49.54  \n",
       "                                                                      \n",
       "      V26             V27              V28               V29         \n",
       " Min.   : 85.1   Min.   : 508.1   Min.   :0.08191   Min.   :0.05131  \n",
       " 1st Qu.:118.1   1st Qu.: 947.3   1st Qu.:0.12932   1st Qu.:0.24870  \n",
       " Median :136.5   Median :1295.0   Median :0.14185   Median :0.35130  \n",
       " Mean   :140.3   Mean   :1405.0   Mean   :0.14392   Mean   :0.36510  \n",
       " 3rd Qu.:159.9   3rd Qu.:1694.2   3rd Qu.:0.15488   3rd Qu.:0.42368  \n",
       " Max.   :232.2   Max.   :3903.0   Max.   :0.22260   Max.   :1.05800  \n",
       "                                                                     \n",
       "      V30               V31               V32              V33         \n",
       " Min.   :0.02398   Min.   :0.02899   Min.   :0.1565   Min.   :0.05504  \n",
       " 1st Qu.:0.32215   1st Qu.:0.15265   1st Qu.:0.2759   1st Qu.:0.07658  \n",
       " Median :0.40235   Median :0.17925   Median :0.3103   Median :0.08689  \n",
       " Mean   :0.43669   Mean   :0.17878   Mean   :0.3234   Mean   :0.09083  \n",
       " 3rd Qu.:0.54105   3rd Qu.:0.20713   3rd Qu.:0.3588   3rd Qu.:0.10138  \n",
       " Max.   :1.17000   Max.   :0.29030   Max.   :0.6638   Max.   :0.20750  \n",
       "                                                                       \n",
       "      V34              V35    \n",
       " Min.   : 0.400   0      :87  \n",
       " 1st Qu.: 1.500   1      :35  \n",
       " Median : 2.500   2      :17  \n",
       " Mean   : 2.847   4      :10  \n",
       " 3rd Qu.: 3.500   13     : 6  \n",
       " Max.   :10.000   7      : 6  \n",
       "                  (Other):37  "
      ]
     },
     "metadata": {},
     "output_type": "display_data"
    },
    {
     "data": {
      "text/html": [
       "<table>\n",
       "<caption>A data.frame: 6 × 35</caption>\n",
       "<thead>\n",
       "\t<tr><th></th><th scope=col>V1</th><th scope=col>V2</th><th scope=col>V3</th><th scope=col>V4</th><th scope=col>V5</th><th scope=col>V6</th><th scope=col>V7</th><th scope=col>V8</th><th scope=col>V9</th><th scope=col>V10</th><th scope=col>⋯</th><th scope=col>V26</th><th scope=col>V27</th><th scope=col>V28</th><th scope=col>V29</th><th scope=col>V30</th><th scope=col>V31</th><th scope=col>V32</th><th scope=col>V33</th><th scope=col>V34</th><th scope=col>V35</th></tr>\n",
       "\t<tr><th></th><th scope=col>&lt;int&gt;</th><th scope=col>&lt;fct&gt;</th><th scope=col>&lt;int&gt;</th><th scope=col>&lt;dbl&gt;</th><th scope=col>&lt;dbl&gt;</th><th scope=col>&lt;dbl&gt;</th><th scope=col>&lt;dbl&gt;</th><th scope=col>&lt;dbl&gt;</th><th scope=col>&lt;dbl&gt;</th><th scope=col>&lt;dbl&gt;</th><th scope=col>⋯</th><th scope=col>&lt;dbl&gt;</th><th scope=col>&lt;dbl&gt;</th><th scope=col>&lt;dbl&gt;</th><th scope=col>&lt;dbl&gt;</th><th scope=col>&lt;dbl&gt;</th><th scope=col>&lt;dbl&gt;</th><th scope=col>&lt;dbl&gt;</th><th scope=col>&lt;dbl&gt;</th><th scope=col>&lt;dbl&gt;</th><th scope=col>&lt;fct&gt;</th></tr>\n",
       "</thead>\n",
       "<tbody>\n",
       "\t<tr><th scope=row>1</th><td>119513</td><td>N</td><td> 31</td><td>18.02</td><td>27.60</td><td>117.50</td><td>1013.0</td><td>0.09489</td><td>0.1036</td><td>0.1086</td><td>⋯</td><td>139.70</td><td>1436.0</td><td>0.1195</td><td>0.1926</td><td>0.3140</td><td>0.1170</td><td>0.2677</td><td>0.08113</td><td>5.0</td><td>5</td></tr>\n",
       "\t<tr><th scope=row>2</th><td>  8423</td><td>N</td><td> 61</td><td>17.99</td><td>10.38</td><td>122.80</td><td>1001.0</td><td>0.11840</td><td>0.2776</td><td>0.3001</td><td>⋯</td><td>184.60</td><td>2019.0</td><td>0.1622</td><td>0.6656</td><td>0.7119</td><td>0.2654</td><td>0.4601</td><td>0.11890</td><td>3.0</td><td>2</td></tr>\n",
       "\t<tr><th scope=row>3</th><td>842517</td><td>N</td><td>116</td><td>21.37</td><td>17.44</td><td>137.50</td><td>1373.0</td><td>0.08836</td><td>0.1189</td><td>0.1255</td><td>⋯</td><td>159.10</td><td>1949.0</td><td>0.1188</td><td>0.3449</td><td>0.3414</td><td>0.2032</td><td>0.4334</td><td>0.09067</td><td>2.5</td><td>0</td></tr>\n",
       "\t<tr><th scope=row>4</th><td>843483</td><td>N</td><td>123</td><td>11.42</td><td>20.38</td><td> 77.58</td><td> 386.1</td><td>0.14250</td><td>0.2839</td><td>0.2414</td><td>⋯</td><td> 98.87</td><td> 567.7</td><td>0.2098</td><td>0.8663</td><td>0.6869</td><td>0.2575</td><td>0.6638</td><td>0.17300</td><td>2.0</td><td>0</td></tr>\n",
       "\t<tr><th scope=row>5</th><td>843584</td><td>R</td><td> 27</td><td>20.29</td><td>14.34</td><td>135.10</td><td>1297.0</td><td>0.10030</td><td>0.1328</td><td>0.1980</td><td>⋯</td><td>152.20</td><td>1575.0</td><td>0.1374</td><td>0.2050</td><td>0.4000</td><td>0.1625</td><td>0.2364</td><td>0.07678</td><td>3.5</td><td>0</td></tr>\n",
       "\t<tr><th scope=row>6</th><td>843786</td><td>R</td><td> 77</td><td>12.75</td><td>15.29</td><td> 84.60</td><td> 502.7</td><td>0.11890</td><td>0.1569</td><td>0.1664</td><td>⋯</td><td>107.30</td><td> 733.2</td><td>0.1706</td><td>0.4196</td><td>0.5999</td><td>0.1709</td><td>0.3485</td><td>0.11790</td><td>2.5</td><td>0</td></tr>\n",
       "</tbody>\n",
       "</table>\n"
      ],
      "text/latex": [
       "A data.frame: 6 × 35\n",
       "\\begin{tabular}{r|lllllllllllllllllllll}\n",
       "  & V1 & V2 & V3 & V4 & V5 & V6 & V7 & V8 & V9 & V10 & ⋯ & V26 & V27 & V28 & V29 & V30 & V31 & V32 & V33 & V34 & V35\\\\\n",
       "  & <int> & <fct> & <int> & <dbl> & <dbl> & <dbl> & <dbl> & <dbl> & <dbl> & <dbl> & ⋯ & <dbl> & <dbl> & <dbl> & <dbl> & <dbl> & <dbl> & <dbl> & <dbl> & <dbl> & <fct>\\\\\n",
       "\\hline\n",
       "\t1 & 119513 & N &  31 & 18.02 & 27.60 & 117.50 & 1013.0 & 0.09489 & 0.1036 & 0.1086 & ⋯ & 139.70 & 1436.0 & 0.1195 & 0.1926 & 0.3140 & 0.1170 & 0.2677 & 0.08113 & 5.0 & 5\\\\\n",
       "\t2 &   8423 & N &  61 & 17.99 & 10.38 & 122.80 & 1001.0 & 0.11840 & 0.2776 & 0.3001 & ⋯ & 184.60 & 2019.0 & 0.1622 & 0.6656 & 0.7119 & 0.2654 & 0.4601 & 0.11890 & 3.0 & 2\\\\\n",
       "\t3 & 842517 & N & 116 & 21.37 & 17.44 & 137.50 & 1373.0 & 0.08836 & 0.1189 & 0.1255 & ⋯ & 159.10 & 1949.0 & 0.1188 & 0.3449 & 0.3414 & 0.2032 & 0.4334 & 0.09067 & 2.5 & 0\\\\\n",
       "\t4 & 843483 & N & 123 & 11.42 & 20.38 &  77.58 &  386.1 & 0.14250 & 0.2839 & 0.2414 & ⋯ &  98.87 &  567.7 & 0.2098 & 0.8663 & 0.6869 & 0.2575 & 0.6638 & 0.17300 & 2.0 & 0\\\\\n",
       "\t5 & 843584 & R &  27 & 20.29 & 14.34 & 135.10 & 1297.0 & 0.10030 & 0.1328 & 0.1980 & ⋯ & 152.20 & 1575.0 & 0.1374 & 0.2050 & 0.4000 & 0.1625 & 0.2364 & 0.07678 & 3.5 & 0\\\\\n",
       "\t6 & 843786 & R &  77 & 12.75 & 15.29 &  84.60 &  502.7 & 0.11890 & 0.1569 & 0.1664 & ⋯ & 107.30 &  733.2 & 0.1706 & 0.4196 & 0.5999 & 0.1709 & 0.3485 & 0.11790 & 2.5 & 0\\\\\n",
       "\\end{tabular}\n"
      ],
      "text/markdown": [
       "\n",
       "A data.frame: 6 × 35\n",
       "\n",
       "| <!--/--> | V1 &lt;int&gt; | V2 &lt;fct&gt; | V3 &lt;int&gt; | V4 &lt;dbl&gt; | V5 &lt;dbl&gt; | V6 &lt;dbl&gt; | V7 &lt;dbl&gt; | V8 &lt;dbl&gt; | V9 &lt;dbl&gt; | V10 &lt;dbl&gt; | ⋯ ⋯ | V26 &lt;dbl&gt; | V27 &lt;dbl&gt; | V28 &lt;dbl&gt; | V29 &lt;dbl&gt; | V30 &lt;dbl&gt; | V31 &lt;dbl&gt; | V32 &lt;dbl&gt; | V33 &lt;dbl&gt; | V34 &lt;dbl&gt; | V35 &lt;fct&gt; |\n",
       "|---|---|---|---|---|---|---|---|---|---|---|---|---|---|---|---|---|---|---|---|---|---|\n",
       "| 1 | 119513 | N |  31 | 18.02 | 27.60 | 117.50 | 1013.0 | 0.09489 | 0.1036 | 0.1086 | ⋯ | 139.70 | 1436.0 | 0.1195 | 0.1926 | 0.3140 | 0.1170 | 0.2677 | 0.08113 | 5.0 | 5 |\n",
       "| 2 |   8423 | N |  61 | 17.99 | 10.38 | 122.80 | 1001.0 | 0.11840 | 0.2776 | 0.3001 | ⋯ | 184.60 | 2019.0 | 0.1622 | 0.6656 | 0.7119 | 0.2654 | 0.4601 | 0.11890 | 3.0 | 2 |\n",
       "| 3 | 842517 | N | 116 | 21.37 | 17.44 | 137.50 | 1373.0 | 0.08836 | 0.1189 | 0.1255 | ⋯ | 159.10 | 1949.0 | 0.1188 | 0.3449 | 0.3414 | 0.2032 | 0.4334 | 0.09067 | 2.5 | 0 |\n",
       "| 4 | 843483 | N | 123 | 11.42 | 20.38 |  77.58 |  386.1 | 0.14250 | 0.2839 | 0.2414 | ⋯ |  98.87 |  567.7 | 0.2098 | 0.8663 | 0.6869 | 0.2575 | 0.6638 | 0.17300 | 2.0 | 0 |\n",
       "| 5 | 843584 | R |  27 | 20.29 | 14.34 | 135.10 | 1297.0 | 0.10030 | 0.1328 | 0.1980 | ⋯ | 152.20 | 1575.0 | 0.1374 | 0.2050 | 0.4000 | 0.1625 | 0.2364 | 0.07678 | 3.5 | 0 |\n",
       "| 6 | 843786 | R |  77 | 12.75 | 15.29 |  84.60 |  502.7 | 0.11890 | 0.1569 | 0.1664 | ⋯ | 107.30 |  733.2 | 0.1706 | 0.4196 | 0.5999 | 0.1709 | 0.3485 | 0.11790 | 2.5 | 0 |\n",
       "\n"
      ],
      "text/plain": [
       "  V1     V2 V3  V4    V5    V6     V7     V8      V9     V10    ⋯ V26    V27   \n",
       "1 119513 N   31 18.02 27.60 117.50 1013.0 0.09489 0.1036 0.1086 ⋯ 139.70 1436.0\n",
       "2   8423 N   61 17.99 10.38 122.80 1001.0 0.11840 0.2776 0.3001 ⋯ 184.60 2019.0\n",
       "3 842517 N  116 21.37 17.44 137.50 1373.0 0.08836 0.1189 0.1255 ⋯ 159.10 1949.0\n",
       "4 843483 N  123 11.42 20.38  77.58  386.1 0.14250 0.2839 0.2414 ⋯  98.87  567.7\n",
       "5 843584 R   27 20.29 14.34 135.10 1297.0 0.10030 0.1328 0.1980 ⋯ 152.20 1575.0\n",
       "6 843786 R   77 12.75 15.29  84.60  502.7 0.11890 0.1569 0.1664 ⋯ 107.30  733.2\n",
       "  V28    V29    V30    V31    V32    V33     V34 V35\n",
       "1 0.1195 0.1926 0.3140 0.1170 0.2677 0.08113 5.0 5  \n",
       "2 0.1622 0.6656 0.7119 0.2654 0.4601 0.11890 3.0 2  \n",
       "3 0.1188 0.3449 0.3414 0.2032 0.4334 0.09067 2.5 0  \n",
       "4 0.2098 0.8663 0.6869 0.2575 0.6638 0.17300 2.0 0  \n",
       "5 0.1374 0.2050 0.4000 0.1625 0.2364 0.07678 3.5 0  \n",
       "6 0.1706 0.4196 0.5999 0.1709 0.3485 0.11790 2.5 0  "
      ]
     },
     "metadata": {},
     "output_type": "display_data"
    }
   ],
   "source": [
    "dataRaw <- read.table(url(\"https://archive.ics.uci.edu/ml/machine-learning-databases/breast-cancer-wisconsin/wpbc.data\"), \n",
    "                  sep=\",\", header=FALSE)\n",
    "\n",
    "# Visualizar un resumen de los datos\n",
    "summary(dataRaw)\n",
    "head(dataRaw)"
   ]
  },
  {
   "cell_type": "markdown",
   "metadata": {},
   "source": [
    "## 3. Generamos juego de datos de pruebas y de entrenamiento"
   ]
  },
  {
   "cell_type": "code",
   "execution_count": 9,
   "metadata": {},
   "outputs": [],
   "source": [
    "# Separamos los datos de las etiquetas\n",
    "labels <- dataRaw[,2]\n",
    "data <- dataRaw[,3:32]\n",
    "\n",
    "# Seleccionamos el 90% para entrenamiento y el 10% para test\n",
    "NObs <-  nrow(data)\n",
    "NTrain <- round(NObs*0.9)\n",
    "NTest <- NObs - NTrain\n",
    "\n",
    "# Definir el conjunto de entrenamiento:\n",
    "train <- data[1:NTrain,]\n",
    "labelsTrain <- labels[1:NTrain]\n",
    "\n",
    "# Definir el conjunto de test:\n",
    "test <- data[(NTrain+1):NObs,]\n",
    "labelsTest <- labels[(NTrain+1):NObs]"
   ]
  },
  {
   "cell_type": "markdown",
   "metadata": {},
   "source": [
    "## 4. Proyectamos los datos en las 2 componentes principales"
   ]
  },
  {
   "cell_type": "code",
   "execution_count": 10,
   "metadata": {},
   "outputs": [],
   "source": [
    "# Proyectamos los datos en las primeras 2 componentes principales\n",
    "pca <- princomp(train)\n",
    "train <- predict(pca,train)[,1:2]\n",
    "test <- predict(pca, test)[,1:2]"
   ]
  },
  {
   "cell_type": "markdown",
   "metadata": {},
   "source": [
    "## 5. Generamos los modelos de SVM\n",
    "\n",
    "Emplearemos distintas configuraciones de kernel"
   ]
  },
  {
   "cell_type": "markdown",
   "metadata": {},
   "source": [
    "### 5.1. Generamos un modelo SVM lineal"
   ]
  },
  {
   "cell_type": "code",
   "execution_count": 11,
   "metadata": {},
   "outputs": [
    {
     "data": {
      "text/html": [
       "178"
      ],
      "text/latex": [
       "178"
      ],
      "text/markdown": [
       "178"
      ],
      "text/plain": [
       "[1] 178"
      ]
     },
     "metadata": {},
     "output_type": "display_data"
    },
    {
     "name": "stdout",
     "output_type": "stream",
     "text": [
      "[1] 132\n"
     ]
    },
    {
     "data": {
      "text/html": [
       "0.741573033707865"
      ],
      "text/latex": [
       "0.741573033707865"
      ],
      "text/markdown": [
       "0.741573033707865"
      ],
      "text/plain": [
       "[1] 0.741573"
      ]
     },
     "metadata": {},
     "output_type": "display_data"
    },
    {
     "data": {
      "text/html": [
       "20"
      ],
      "text/latex": [
       "20"
      ],
      "text/markdown": [
       "20"
      ],
      "text/plain": [
       "[1] 20"
      ]
     },
     "metadata": {},
     "output_type": "display_data"
    },
    {
     "name": "stdout",
     "output_type": "stream",
     "text": [
      "[1] 19\n"
     ]
    },
    {
     "data": {
      "text/html": [
       "0.95"
      ],
      "text/latex": [
       "0.95"
      ],
      "text/markdown": [
       "0.95"
      ],
      "text/plain": [
       "[1] 0.95"
      ]
     },
     "metadata": {},
     "output_type": "display_data"
    }
   ],
   "source": [
    "# Entrenamos una SVM Lineal\n",
    "trainFact=data.frame(train,y=as.factor(labelsTrain))\n",
    "svmfit=svm(y~.,data=trainFact,kernel=\"linear\",cross = 5)\n",
    "\n",
    "# Predecir el resultado del propio conjunto de entrenamiento\n",
    "out=predict(svmfit,train)\n",
    "NTrain\n",
    "# Porcentaje de acierto\n",
    "print(sum(out==labelsTrain))/NTrain\n",
    "\n",
    "# Predecir el resultado usando el conjunto de test\n",
    "out=predict(svmfit,test)\n",
    "NTest\n",
    "# Porcentaje de acierto\n",
    "print(sum(out==labelsTest))/NTest"
   ]
  },
  {
   "cell_type": "markdown",
   "metadata": {},
   "source": [
    "### 5.2. Generamos un modelo SVM radial"
   ]
  },
  {
   "cell_type": "code",
   "execution_count": 12,
   "metadata": {},
   "outputs": [
    {
     "name": "stdout",
     "output_type": "stream",
     "text": [
      "[1] 19\n"
     ]
    },
    {
     "data": {
      "text/html": [
       "0.95"
      ],
      "text/latex": [
       "0.95"
      ],
      "text/markdown": [
       "0.95"
      ],
      "text/plain": [
       "[1] 0.95"
      ]
     },
     "metadata": {},
     "output_type": "display_data"
    }
   ],
   "source": [
    "#Función Kernel Radial\n",
    "svmfit=svm(y~.,data=trainFact,kernel=\"radial\",cross=5)\n",
    "out=predict(svmfit,test)\n",
    "\n",
    "# Porcentaje de acierto\n",
    "print(sum(out==labelsTest))/NTest"
   ]
  },
  {
   "cell_type": "markdown",
   "metadata": {},
   "source": [
    "### 5.3. Generamos un modelo SVM polinomial"
   ]
  },
  {
   "cell_type": "code",
   "execution_count": 13,
   "metadata": {},
   "outputs": [
    {
     "name": "stdout",
     "output_type": "stream",
     "text": [
      "[1] 18\n"
     ]
    },
    {
     "data": {
      "text/html": [
       "0.9"
      ],
      "text/latex": [
       "0.9"
      ],
      "text/markdown": [
       "0.9"
      ],
      "text/plain": [
       "[1] 0.9"
      ]
     },
     "metadata": {},
     "output_type": "display_data"
    }
   ],
   "source": [
    "#Función Kernel Polinomial\n",
    "svmfit=svm(y~.,data=trainFact,kernel=\"polynomial\",cross=5)\n",
    "out=predict(svmfit,test)\n",
    "\n",
    "# Porcentaje de acierto\n",
    "print(sum(out==labelsTest))/NTest"
   ]
  },
  {
   "cell_type": "markdown",
   "metadata": {},
   "source": [
    "### 5.4. Generamos un modelo SVM sigmoidal"
   ]
  },
  {
   "cell_type": "code",
   "execution_count": 14,
   "metadata": {},
   "outputs": [
    {
     "name": "stdout",
     "output_type": "stream",
     "text": [
      "[1] 17\n"
     ]
    },
    {
     "data": {
      "text/html": [
       "0.85"
      ],
      "text/latex": [
       "0.85"
      ],
      "text/markdown": [
       "0.85"
      ],
      "text/plain": [
       "[1] 0.85"
      ]
     },
     "metadata": {},
     "output_type": "display_data"
    }
   ],
   "source": [
    "#Función Kernel Sigmoidal\n",
    "svmfit=svm(y~.,data=trainFact,kernel=\"sigmoid\",cross=5)\n",
    "out=predict(svmfit,test)\n",
    "\n",
    "# Porcentaje de acierto\n",
    "print(sum(out==labelsTest))/NTest"
   ]
  },
  {
   "cell_type": "markdown",
   "metadata": {},
   "source": [
    "### 5.5. Generamos un modelo SVM lineal con el juego de datos entero"
   ]
  },
  {
   "cell_type": "code",
   "execution_count": 15,
   "metadata": {},
   "outputs": [
    {
     "name": "stdout",
     "output_type": "stream",
     "text": [
      "\n",
      "Call:\n",
      "svm(formula = y ~ ., data = trainFact, kernel = \"linear\", cross = 5)\n",
      "\n",
      "\n",
      "Parameters:\n",
      "   SVM-Type:  C-classification \n",
      " SVM-Kernel:  linear \n",
      "       cost:  1 \n",
      "\n",
      "Number of Support Vectors:  83\n",
      "\n",
      "[1] 159\n"
     ]
    },
    {
     "data": {
      "text/html": [
       "0.893258426966292"
      ],
      "text/latex": [
       "0.893258426966292"
      ],
      "text/markdown": [
       "0.893258426966292"
      ],
      "text/plain": [
       "[1] 0.8932584"
      ]
     },
     "metadata": {},
     "output_type": "display_data"
    }
   ],
   "source": [
    "# Aplicaremos SVM con funcion kernel lineal sobre el\n",
    "# juego de datos entero. Es decir, sin reduccion de \n",
    "# dimensiones\n",
    "train <- data[1:NTrain,]\n",
    "labelsTrain <- labels[1:NTrain]\n",
    "test <- data[(NTrain+1):NObs,]\n",
    "labelsTest <- labels[(NTrain+1):NObs]\n",
    "\n",
    "trainFact <- data.frame(train, y=as.factor(labelsTrain))\n",
    "svmfit <- svm(y~., data=trainFact, kernel=\"linear\", cross=5)\n",
    "print(svmfit)\n",
    "\n",
    "out <- predict(svmfit, train)\n",
    "\n",
    "# Porcentaje de acierto\n",
    "print(sum(out==labelsTrain))/NTrain"
   ]
  }
 ],
 "metadata": {
  "anaconda-cloud": {},
  "kernelspec": {
   "display_name": "R",
   "language": "R",
   "name": "ir"
  },
  "language_info": {
   "codemirror_mode": "r",
   "file_extension": ".r",
   "mimetype": "text/x-r-source",
   "name": "R",
   "pygments_lexer": "r",
   "version": "3.5.1"
  }
 },
 "nbformat": 4,
 "nbformat_minor": 1
}
