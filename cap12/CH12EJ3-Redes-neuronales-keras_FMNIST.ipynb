{
 "cells": [
  {
   "cell_type": "markdown",
   "metadata": {},
   "source": [
    "<div style=\"width: 100%; clear: both;\">\n",
    "<div style=\"float: left; width: 50%;\">\n",
    "<img src=\"http://www.uoc.edu/portal/_resources/common/imatges/marca_UOC/UOC_Masterbrand.jpg\" align=\"left\">\n",
    "</div>\n",
    "<div style=\"float: right; width: 50%;\">\n",
    "<p style=\"margin: 0; padding-top: 22px; text-align:right;\"><a href=\"http://www.editorialuoc.cat/mineria-de-datos\" target=\"_blank\">Minería de datos: Modelos y algoritmos</a></p>\n",
    "<p style=\"margin: 0; text-align:right;\">Estudios de Informática, Multimedia y Telecomunicación</p>\n",
    "<p style=\"margin: 0; text-align:right; padding-button: 100px;\">Universitat Oberta de Catalunya (<b>UOC</b>)</p>\n",
    "</div>\n",
    "</div>\n",
    "<div style=\"width:100%;\">&nbsp;</div>"
   ]
  },
  {
   "cell_type": "markdown",
   "metadata": {},
   "source": [
    "# Creación de una red neuronal para clasificación del conjunto de datos FASHION-MNIST\n",
    "\n",
    "En este ejemplo veremos la creación de una red neuronal, mediante el uso de Python y la librería `keras`, para realizar una clasificación de objetos a partir del conjunto de datos [Fashion-MNITS](http://yann.lecun.com/exdb/mnist/). "
   ]
  },
  {
   "cell_type": "markdown",
   "metadata": {},
   "source": [
    "## 1. Carga de librerías y datos"
   ]
  },
  {
   "cell_type": "code",
   "execution_count": 7,
   "metadata": {},
   "outputs": [],
   "source": [
    "import numpy as np\n",
    "import keras\n",
    "from keras.datasets import fashion_mnist\n",
    "from keras.utils import to_categorical\n",
    "from keras.models import Sequential\n",
    "from keras.layers import Dense, Conv2D, Flatten, Activation, Dropout, MaxPooling2D, BatchNormalization\n",
    "import matplotlib.pyplot as plt"
   ]
  },
  {
   "cell_type": "markdown",
   "metadata": {},
   "source": [
    "Descarga el conjunto de datos MNIST y realiza la partición entrenamiento / test."
   ]
  },
  {
   "cell_type": "code",
   "execution_count": 8,
   "metadata": {},
   "outputs": [],
   "source": [
    "# Descarga i división train/test\n",
    "(x_train_orig, y_train_orig), (x_test_orig, y_test_orig) = fashion_mnist.load_data()"
   ]
  },
  {
   "cell_type": "markdown",
   "metadata": {},
   "source": [
    "Visualización de uno de los objetos para verificar, de forma visual, el tamaño, canal de color, etc."
   ]
  },
  {
   "cell_type": "code",
   "execution_count": 9,
   "metadata": {},
   "outputs": [
    {
     "data": {
      "image/png": "[encoded data removed]",
      "text/plain": [
       "<Figure size 432x288 with 1 Axes>"
      ]
     },
     "metadata": {
      "needs_background": "light"
     },
     "output_type": "display_data"
    }
   ],
   "source": [
    "# Visualizamos la primera imagen del dataset\n",
    "first_image = x_train_orig[0]\n",
    "first_image = np.array(first_image, dtype='float')\n",
    "pixels = first_image.reshape((28, 28))\n",
    "plt.imshow(pixels, cmap='gray')\n",
    "plt.show()"
   ]
  },
  {
   "cell_type": "markdown",
   "metadata": {},
   "source": [
    "Realizamos una conversión de formato para que las imágenes estén correctamente almacenadas en la estructura de 4 dimensiones:\n",
    "- número de imagen \n",
    "- alto \n",
    "- ancho \n",
    "- canal de color (en este caso concreto, un sólo canal que corresponde a la escala de gris).\n",
    "\n",
    "A continuación, realizamos la conversión a variable categórica de las etiquetas de las imágenes mediante la función `to_categoricaly`."
   ]
  },
  {
   "cell_type": "code",
   "execution_count": 10,
   "metadata": {},
   "outputs": [],
   "source": [
    "x_train = x_train_orig.reshape(60000,28,28,1)\n",
    "x_test = x_test_orig.reshape(10000,28,28,1)\n",
    "\n",
    "y_train = to_categorical(y_train_orig, 10)\n",
    "y_test = to_categorical(y_test_orig, 10)"
   ]
  },
  {
   "cell_type": "markdown",
   "metadata": {},
   "source": [
    "## 2. Creación del modelo "
   ]
  },
  {
   "cell_type": "markdown",
   "metadata": {},
   "source": [
    "A cotninuación construimos la red neuronal, que en este caso estará formada por la siguientes capas:\n",
    "- Capa convolucional de 32 *kernels* de tamaño *3x3* y activación `RELU`\n",
    "- Capa convolucional de 64 *kernels* de tamaño *3x3* y activación `RELU`\n",
    "- Capa *Max pooling*\n",
    "- Capa *Dropout* con probabilidad igual al 25%\n",
    "- Capa densamente conectada con 128 neuronas y activación `RELU`\n",
    "- Capa *Dropout*\n",
    "- Capa de salida, formada por 10 neuronas (tenemos 10 clases en el conjunto de datos) y *softmax*\n",
    "\n",
    "Finalment, vemos los detalles del modelo construido (para cada capa, vemos las dimensiones de salida, número de parámetros entrenables, etc.)."
   ]
  },
  {
   "cell_type": "code",
   "execution_count": 11,
   "metadata": {},
   "outputs": [
    {
     "name": "stdout",
     "output_type": "stream",
     "text": [
      "Model: \"sequential_3\"\n",
      "_________________________________________________________________\n",
      "Layer (type)                 Output Shape              Param #   \n",
      "=================================================================\n",
      "conv2d_5 (Conv2D)            (None, 26, 26, 32)        320       \n",
      "_________________________________________________________________\n",
      "conv2d_6 (Conv2D)            (None, 24, 24, 64)        18496     \n",
      "_________________________________________________________________\n",
      "max_pooling2d_3 (MaxPooling2 (None, 12, 12, 64)        0         \n",
      "_________________________________________________________________\n",
      "dropout_5 (Dropout)          (None, 12, 12, 64)        0         \n",
      "_________________________________________________________________\n",
      "flatten_3 (Flatten)          (None, 9216)              0         \n",
      "_________________________________________________________________\n",
      "dense_5 (Dense)              (None, 128)               1179776   \n",
      "_________________________________________________________________\n",
      "dropout_6 (Dropout)          (None, 128)               0         \n",
      "_________________________________________________________________\n",
      "dense_6 (Dense)              (None, 10)                1290      \n",
      "=================================================================\n",
      "Total params: 1,199,882\n",
      "Trainable params: 1,199,882\n",
      "Non-trainable params: 0\n",
      "_________________________________________________________________\n"
     ]
    }
   ],
   "source": [
    "# Construcción de la red neuronal\n",
    "model = Sequential()\n",
    "model.add(Conv2D(32, kernel_size=(3, 3), activation=\"relu\", input_shape=(28,28,1)))\n",
    "model.add(Conv2D(64, (3, 3), activation=\"relu\"))\n",
    "model.add(MaxPooling2D(pool_size=(2, 2)))\n",
    "model.add(Dropout(0.25))\n",
    "model.add(Flatten())\n",
    "model.add(Dense(128, activation=\"relu\"))\n",
    "model.add(Dropout(0.5))\n",
    "model.add(Dense(10, activation=\"softmax\"))\n",
    "\n",
    "# Resumen de la información del modelo\n",
    "model.summary()"
   ]
  },
  {
   "cell_type": "markdown",
   "metadata": {},
   "source": [
    "Realizamos el entrenamiento sobre el conjunto de *train*."
   ]
  },
  {
   "cell_type": "code",
   "execution_count": 12,
   "metadata": {},
   "outputs": [
    {
     "name": "stdout",
     "output_type": "stream",
     "text": [
      "WARNING:tensorflow:From /Users/jcasasr/opt/anaconda3/envs/py_36_tf_15/lib/python3.6/site-packages/keras/backend/tensorflow_backend.py:422: The name tf.global_variables is deprecated. Please use tf.compat.v1.global_variables instead.\n",
      "\n",
      "Train on 60000 samples, validate on 10000 samples\n",
      "Epoch 1/12\n",
      "60000/60000 [==============================] - 94s 2ms/step - loss: 1.0824 - accuracy: 0.7516 - val_loss: 0.3653 - val_accuracy: 0.8687\n",
      "Epoch 2/12\n",
      "60000/60000 [==============================] - 92s 2ms/step - loss: 0.3780 - accuracy: 0.8691 - val_loss: 0.3043 - val_accuracy: 0.8909\n",
      "Epoch 3/12\n",
      "60000/60000 [==============================] - 91s 2ms/step - loss: 0.3181 - accuracy: 0.8877 - val_loss: 0.2899 - val_accuracy: 0.8975\n",
      "Epoch 4/12\n",
      "60000/60000 [==============================] - 90s 2ms/step - loss: 0.2848 - accuracy: 0.8983 - val_loss: 0.2855 - val_accuracy: 0.9041\n",
      "Epoch 5/12\n",
      "60000/60000 [==============================] - 94s 2ms/step - loss: 0.2591 - accuracy: 0.9065 - val_loss: 0.2793 - val_accuracy: 0.9010\n",
      "Epoch 6/12\n",
      "60000/60000 [==============================] - 93s 2ms/step - loss: 0.2449 - accuracy: 0.9136 - val_loss: 0.2730 - val_accuracy: 0.9067\n",
      "Epoch 7/12\n",
      "60000/60000 [==============================] - 92s 2ms/step - loss: 0.2289 - accuracy: 0.9185 - val_loss: 0.3142 - val_accuracy: 0.9090\n",
      "Epoch 8/12\n",
      "60000/60000 [==============================] - 91s 2ms/step - loss: 0.2206 - accuracy: 0.9216 - val_loss: 0.2723 - val_accuracy: 0.9112\n",
      "Epoch 9/12\n",
      "60000/60000 [==============================] - 89s 1ms/step - loss: 0.2128 - accuracy: 0.9257 - val_loss: 0.2610 - val_accuracy: 0.9118\n",
      "Epoch 10/12\n",
      "60000/60000 [==============================] - 91s 2ms/step - loss: 0.2013 - accuracy: 0.9300 - val_loss: 0.3086 - val_accuracy: 0.9175\n",
      "Epoch 11/12\n",
      "60000/60000 [==============================] - 99s 2ms/step - loss: 0.1953 - accuracy: 0.9319 - val_loss: 0.2560 - val_accuracy: 0.9174\n",
      "Epoch 12/12\n",
      "60000/60000 [==============================] - 91s 2ms/step - loss: 0.1910 - accuracy: 0.9328 - val_loss: 0.2505 - val_accuracy: 0.9178\n"
     ]
    }
   ],
   "source": [
    "batch_size = 128\n",
    "n_epochs = 12\n",
    "\n",
    "model.compile(loss=keras.losses.categorical_crossentropy,\n",
    "              optimizer=keras.optimizers.Adadelta(),\n",
    "              metrics=['accuracy'])\n",
    "\n",
    "mfit = model.fit(x_train, y_train,\n",
    "          validation_data=(x_test, y_test),\n",
    "          batch_size=batch_size,\n",
    "          epochs=n_epochs)"
   ]
  },
  {
   "cell_type": "markdown",
   "metadata": {},
   "source": [
    "## 3. Evaluación del modelo"
   ]
  },
  {
   "cell_type": "markdown",
   "metadata": {},
   "source": [
    "Revisamos la información disponible del entrenamiento para poder ver su evolución."
   ]
  },
  {
   "cell_type": "code",
   "execution_count": 13,
   "metadata": {},
   "outputs": [
    {
     "name": "stdout",
     "output_type": "stream",
     "text": [
      "dict_keys(['val_loss', 'val_accuracy', 'loss', 'accuracy'])\n"
     ]
    }
   ],
   "source": [
    "print(mfit.history.keys())"
   ]
  },
  {
   "cell_type": "markdown",
   "metadata": {},
   "source": [
    "Creamos dos gráficas:\n",
    "1. La primera, donde presentamos la evolución de la *accuracy* del model durante las 12 épocas del entrenamiento, teniendo en cuenta los datos de entrenamiento y test.\n",
    "2. La segunda, donde presentamos la evolución de la función de *loss* durante el entrenamiento."
   ]
  },
  {
   "cell_type": "code",
   "execution_count": 14,
   "metadata": {},
   "outputs": [
    {
     "data": {
      "image/png": "[encoded data removed]",
      "text/plain": [
       "<Figure size 432x288 with 1 Axes>"
      ]
     },
     "metadata": {
      "needs_background": "light"
     },
     "output_type": "display_data"
    },
    {
     "data": {
      "image/png": "[encoded data removed]",
      "text/plain": [
       "<Figure size 432x288 with 1 Axes>"
      ]
     },
     "metadata": {
      "needs_background": "light"
     },
     "output_type": "display_data"
    }
   ],
   "source": [
    "# Accuracy\n",
    "plt.plot(mfit.history['accuracy'])\n",
    "plt.plot(mfit.history['val_accuracy'])\n",
    "plt.title('model accuracy')\n",
    "plt.ylabel('accuracy')\n",
    "plt.xlabel('epoch')\n",
    "plt.legend(['train', 'validation'], loc='upper left')\n",
    "plt.show()\n",
    "\n",
    "# Loss\n",
    "plt.plot(mfit.history['loss'])\n",
    "plt.plot(mfit.history['val_loss'])\n",
    "plt.title('model loss')\n",
    "plt.ylabel('loss')\n",
    "plt.xlabel('epoch')\n",
    "plt.legend(['train', 'validation'], loc='upper left')\n",
    "plt.show()"
   ]
  },
  {
   "cell_type": "markdown",
   "metadata": {},
   "source": [
    "Realizamos la evaluación del modelo sobre conjunto de datos de *test*."
   ]
  },
  {
   "cell_type": "code",
   "execution_count": 16,
   "metadata": {},
   "outputs": [
    {
     "name": "stdout",
     "output_type": "stream",
     "text": [
      "Test loss    : 0.25054695861637594\n",
      "Test accuracy: 0.9178000092506409\n"
     ]
    }
   ],
   "source": [
    "# Evaluación del modelo sobre el conjunto de test\n",
    "score = model.evaluate(x_test, y_test, verbose=0)\n",
    "print('Test loss    :', score[0])\n",
    "print('Test accuracy:', score[1])"
   ]
  },
  {
   "cell_type": "markdown",
   "metadata": {},
   "source": [
    "Mostramos, en primer lugar, el vector de predicciones para cada uno de los 4 primeros registros de test. \n",
    "\n",
    "Cada vector está formado por 10 números, que indican la probabilidad de este registro de pertenecer a cada una de las 10 categorías que existen en este conjunto de datos.\n",
    "\n",
    "En segundo lugar, mostramos los valores correctos (etiquetados en el conjunto original) para estos 4 primeros registros."
   ]
  },
  {
   "cell_type": "code",
   "execution_count": 17,
   "metadata": {},
   "outputs": [
    {
     "name": "stdout",
     "output_type": "stream",
     "text": [
      "[[2.7533895e-08 5.2533194e-10 1.0284823e-11 4.4791761e-12 6.6496107e-11\n",
      "  2.9613602e-06 6.9355104e-09 2.3649907e-06 7.8485468e-10 9.9999464e-01]\n",
      " [1.8104934e-08 3.0958528e-17 9.9999857e-01 3.3281591e-12 3.4046306e-07\n",
      "  1.4783178e-17 1.0432298e-06 1.0683738e-15 2.5647334e-12 3.1974925e-16]\n",
      " [2.0687913e-12 1.0000000e+00 1.4370547e-13 2.2101944e-13 5.1964936e-14\n",
      "  8.9348222e-16 2.9202803e-12 2.3731398e-19 2.2129730e-14 1.3715950e-17]\n",
      " [8.9881893e-15 1.0000000e+00 3.5920934e-17 8.6278349e-14 4.1801928e-18\n",
      "  6.2252124e-19 8.5958126e-16 8.3091050e-22 7.3796091e-18 4.5191371e-20]]\n"
     ]
    },
    {
     "data": {
      "text/plain": [
       "array([[0., 0., 0., 0., 0., 0., 0., 0., 0., 1.],\n",
       "       [0., 0., 1., 0., 0., 0., 0., 0., 0., 0.],\n",
       "       [0., 1., 0., 0., 0., 0., 0., 0., 0., 0.],\n",
       "       [0., 1., 0., 0., 0., 0., 0., 0., 0., 0.]], dtype=float32)"
      ]
     },
     "execution_count": 17,
     "metadata": {},
     "output_type": "execute_result"
    }
   ],
   "source": [
    "# Predicción de las cuatro primeras imágenes del conjunto de test\n",
    "print(model.predict(x_test[:4]))\n",
    "y_test[:4]"
   ]
  },
  {
   "cell_type": "code",
   "execution_count": null,
   "metadata": {},
   "outputs": [],
   "source": []
  }
 ],
 "metadata": {
  "kernelspec": {
   "display_name": "Python 3",
   "language": "python",
   "name": "python3"
  },
  "language_info": {
   "codemirror_mode": {
    "name": "ipython",
    "version": 3
   },
   "file_extension": ".py",
   "mimetype": "text/x-python",
   "name": "python",
   "nbconvert_exporter": "python",
   "pygments_lexer": "ipython3",
   "version": "3.6.12"
  }
 },
 "nbformat": 4,
 "nbformat_minor": 2
}
