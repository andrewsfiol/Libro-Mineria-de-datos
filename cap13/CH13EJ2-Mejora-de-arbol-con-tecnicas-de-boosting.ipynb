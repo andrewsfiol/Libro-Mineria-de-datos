{
 "cells": [
  {
   "cell_type": "markdown",
   "metadata": {},
   "source": [
    "<div style=\"width: 100%; clear: both;\">\n",
    "<div style=\"float: left; width: 50%;\">\n",
    "<img src=\"http://www.uoc.edu/portal/_resources/common/imatges/marca_UOC/UOC_Masterbrand.jpg\" align=\"left\">\n",
    "</div>\n",
    "<div style=\"float: right; width: 50%;\">\n",
    "<p style=\"margin: 0; padding-top: 22px; text-align:right;\"><a href=\"http://www.editorialuoc.cat/mineria-de-datos\" target=\"_blank\">Minería de datos: Modelos y algoritmos</a></p>\n",
    "<p style=\"margin: 0; text-align:right;\">Estudios de Informática, Multimedia y Telecomunicación</p>\n",
    "<p style=\"margin: 0; text-align:right; padding-button: 100px;\">Universitat Oberta de Catalunya (<b>UOC</b>)</p>\n",
    "</div>\n",
    "</div>\n",
    "<div style=\"width:100%;\">&nbsp;</div>"
   ]
  },
  {
   "cell_type": "markdown",
   "metadata": {
    "nbpresent": {
     "id": "ea6cb8e6-4d3d-45c8-abc9-44f65205068f"
    }
   },
   "source": [
    "# CH13EJ2 Mejora del árbol con técnicas de *boosting*"
   ]
  },
  {
   "cell_type": "markdown",
   "metadata": {},
   "source": [
    "En este ejemplo se muestra como mejorar un árbol C5.0 con técnicas de *boosting*."
   ]
  },
  {
   "cell_type": "markdown",
   "metadata": {},
   "source": [
    "## 1. Instalar los packages necesarios"
   ]
  },
  {
   "cell_type": "code",
   "execution_count": 1,
   "metadata": {},
   "outputs": [
    {
     "name": "stderr",
     "output_type": "stream",
     "text": [
      "Loading required package: C50\n",
      "\n",
      "Loading required package: plyr\n",
      "\n",
      "Warning message:\n",
      "“package ‘plyr’ was built under R version 3.5.2”\n",
      "Loading required package: gmodels\n",
      "\n",
      "Warning message in library(package, lib.loc = lib.loc, character.only = TRUE, logical.return = TRUE, :\n",
      "“there is no package called ‘gmodels’”\n",
      "also installing the dependencies ‘gtools’, ‘gdata’\n",
      "\n",
      "\n"
     ]
    },
    {
     "name": "stdout",
     "output_type": "stream",
     "text": [
      "\n",
      "  There is a binary version available but the source version is later:\n",
      "       binary source needs_compilation\n",
      "gtools  3.8.1  3.8.2              TRUE\n",
      "\n",
      "\n",
      "The downloaded binary packages are in\n",
      "\t/var/folders/ng/861lyhkn7n71xz1qgsbxbk40x59kk6/T//RtmpLGw6lT/downloaded_packages\n"
     ]
    },
    {
     "name": "stderr",
     "output_type": "stream",
     "text": [
      "installing the source package ‘gtools’\n",
      "\n",
      "\n",
      "Loading required package: gmodels\n",
      "\n"
     ]
    }
   ],
   "source": [
    "if(!require(C50)){\n",
    "    install.packages('C50',repos='http://cran.es.r-project.org')\n",
    "    require(C50)\n",
    "}\n",
    "if(!require(plyr)){\n",
    "    install.packages('plyr',repos='http://cran.es.r-project.org')\n",
    "    require(plyr)\n",
    "}\n",
    "if(!require(gmodels)){\n",
    "    install.packages('gmodels',repos='http://cran.es.r-project.org')\n",
    "    require(gmodels)\n",
    "}\n",
    "set.seed(5813)"
   ]
  },
  {
   "cell_type": "markdown",
   "metadata": {
    "nbpresent": {
     "id": "fafb1f54-b4ab-4c2e-bc0d-c723f2c6814d"
    }
   },
   "source": [
    "## 2. Carga de los datos"
   ]
  },
  {
   "cell_type": "code",
   "execution_count": 2,
   "metadata": {
    "nbpresent": {
     "id": "352d9955-18b6-49b7-a343-102b723bf3cd"
    }
   },
   "outputs": [],
   "source": [
    "# Carga del conjunto de datos\n",
    "Alumnos_usos_sociales <-read.csv(\"../data/B2.332_Students.csv\",comment.char = \"#\")"
   ]
  },
  {
   "cell_type": "markdown",
   "metadata": {},
   "source": [
    "### Preparamos los datos para crear el modelo."
   ]
  },
  {
   "cell_type": "code",
   "execution_count": 3,
   "metadata": {},
   "outputs": [
    {
     "data": {
      "text/plain": [
       "\n",
       "       No        Si \n",
       "0.2028571 0.7971429 "
      ]
     },
     "metadata": {},
     "output_type": "display_data"
    },
    {
     "data": {
      "text/plain": [
       "\n",
       "      No       Si \n",
       "0.255814 0.744186 "
      ]
     },
     "metadata": {},
     "output_type": "display_data"
    }
   ],
   "source": [
    "# Reordenar al azar los datos\n",
    "Alumnos_usos_sociales <- Alumnos_usos_sociales[sample(nrow(Alumnos_usos_sociales)),]\n",
    "X <- Alumnos_usos_sociales[,c(1:30,34)]\n",
    "\n",
    "# Asignamos a Y si supera o no el curso\n",
    "Y <- Alumnos_usos_sociales[,34]\n",
    "\n",
    "# conjunto de entreno\n",
    "trainX <- X[1:700,]\n",
    "\n",
    "# conjunto de test\n",
    "testX <- X[701:1044,]\n",
    "\n",
    "#Revisamos % variable clasificatoria\n",
    "prop.table(table(trainX$Supera))\n",
    "prop.table(table(testX$Supera))"
   ]
  },
  {
   "cell_type": "markdown",
   "metadata": {
    "collapsed": true
   },
   "source": [
    "## 3. Creación del modelo de árbol "
   ]
  },
  {
   "cell_type": "code",
   "execution_count": 4,
   "metadata": {},
   "outputs": [
    {
     "name": "stdout",
     "output_type": "stream",
     "text": [
      "c50 code called exit with value 1\n"
     ]
    },
    {
     "data": {
      "text/plain": [
       "\n",
       "Call:\n",
       "C5.0.default(x = trainX[, c(1:30)], y = trainX$Supera)\n",
       "\n",
       "Classification Tree\n",
       "Number of samples: 700 \n",
       "Number of predictors: 30 \n",
       "\n",
       "Tree size: 0 \n",
       "\n",
       "Non-standard options: attempt to group attributes\n"
      ]
     },
     "metadata": {},
     "output_type": "display_data"
    },
    {
     "data": {
      "text/plain": [
       "\n",
       "Call:\n",
       "C5.0.default(x = trainX[, c(1:30)], y = trainX$Supera)\n",
       "\n",
       "\n",
       "C5.0 [Release 2.07 GPL Edition]  \tTue Oct 20 16:46:16 2020\n",
       "-------------------------------\n",
       "\n",
       "*** line 18 of `undefined.names': `:' or `:=' expected after attribute name `15m'\n",
       "\n",
       "Error limit exceeded\n"
      ]
     },
     "metadata": {},
     "output_type": "display_data"
    }
   ],
   "source": [
    "model <- C50::C5.0(trainX[,c(1:30)],trainX$Supera)\n",
    "model\n",
    "summary(model)"
   ]
  },
  {
   "cell_type": "markdown",
   "metadata": {},
   "source": [
    "### Revisamos la calidad del clasificador"
   ]
  },
  {
   "cell_type": "code",
   "execution_count": 5,
   "metadata": {},
   "outputs": [
    {
     "ename": "ERROR",
     "evalue": "Error in predict.C5.0(model, testX): either a tree or rules must be provided\n",
     "output_type": "error",
     "traceback": [
      "Error in predict.C5.0(model, testX): either a tree or rules must be provided\nTraceback:\n",
      "1. predict(model, testX)",
      "2. predict.C5.0(model, testX)"
     ]
    }
   ],
   "source": [
    "Supera_pred <- predict(model, testX)\n",
    "\n",
    "CrossTable(testX$Supera, Supera_pred, prop.chisq=FALSE, prop.c=FALSE, prop.r=FALSE,\n",
    "           dnn=c('actual Supera','predicted Supera'))"
   ]
  },
  {
   "cell_type": "markdown",
   "metadata": {
    "collapsed": true
   },
   "source": [
    "## 4. Generamos modelo con técnica de *boosting* con 10 iteraciones"
   ]
  },
  {
   "cell_type": "code",
   "execution_count": 6,
   "metadata": {},
   "outputs": [
    {
     "name": "stdout",
     "output_type": "stream",
     "text": [
      "c50 code called exit with value 1\n"
     ]
    },
    {
     "data": {
      "text/plain": [
       "\n",
       "Call:\n",
       "C5.0.default(x = trainX[, c(1:30)], y = trainX$Supera, trials = 10)\n",
       "\n",
       "Classification Tree\n",
       "Number of samples: 700 \n",
       "Number of predictors: 30 \n",
       "\n",
       "Number of boosting iterations: 10 \n",
       "\n",
       "Non-standard options: attempt to group attributes\n"
      ]
     },
     "metadata": {},
     "output_type": "display_data"
    }
   ],
   "source": [
    "modelB <- C50::C5.0(trainX[,c(1:30)],trainX$Supera,trials=10)\n",
    "modelB"
   ]
  },
  {
   "cell_type": "markdown",
   "metadata": {
    "collapsed": true
   },
   "source": [
    "### Revisamos la calidad del clasificador"
   ]
  },
  {
   "cell_type": "code",
   "execution_count": 7,
   "metadata": {},
   "outputs": [
    {
     "ename": "ERROR",
     "evalue": "Error in predict.C5.0(modelB, testX): either a tree or rules must be provided\n",
     "output_type": "error",
     "traceback": [
      "Error in predict.C5.0(modelB, testX): either a tree or rules must be provided\nTraceback:\n",
      "1. predict(modelB, testX)",
      "2. predict.C5.0(modelB, testX)"
     ]
    }
   ],
   "source": [
    "Supera_pred <- predict(modelB, testX)\n",
    "CrossTable(testX$Supera, Supera_pred, prop.chisq=FALSE, prop.c=FALSE, prop.r=FALSE,\n",
    "           dnn = c('actual Supera','predicted Supera'))"
   ]
  },
  {
   "cell_type": "markdown",
   "metadata": {},
   "source": [
    "## 5. Generamos modelo con técnica de *boosting* con 100 iteraciones"
   ]
  },
  {
   "cell_type": "code",
   "execution_count": 8,
   "metadata": {},
   "outputs": [
    {
     "name": "stdout",
     "output_type": "stream",
     "text": [
      "c50 code called exit with value 1\n"
     ]
    },
    {
     "data": {
      "text/plain": [
       "\n",
       "Call:\n",
       "C5.0.default(x = trainX[, c(1:30)], y = trainX$Supera, trials = 100)\n",
       "\n",
       "Classification Tree\n",
       "Number of samples: 700 \n",
       "Number of predictors: 30 \n",
       "\n",
       "Number of boosting iterations: 100 \n",
       "\n",
       "Non-standard options: attempt to group attributes\n"
      ]
     },
     "metadata": {},
     "output_type": "display_data"
    }
   ],
   "source": [
    "modelB <- C50::C5.0(trainX[,c(1:30)],trainX$Supera,trials=100)\n",
    "modelB"
   ]
  },
  {
   "cell_type": "markdown",
   "metadata": {},
   "source": [
    "### Revisamos la calidad del clasificador"
   ]
  },
  {
   "cell_type": "code",
   "execution_count": 9,
   "metadata": {},
   "outputs": [
    {
     "ename": "ERROR",
     "evalue": "Error in predict.C5.0(modelB, testX): either a tree or rules must be provided\n",
     "output_type": "error",
     "traceback": [
      "Error in predict.C5.0(modelB, testX): either a tree or rules must be provided\nTraceback:\n",
      "1. predict(modelB, testX)",
      "2. predict.C5.0(modelB, testX)"
     ]
    }
   ],
   "source": [
    "Supera_pred <- predict(modelB, testX)\n",
    "CrossTable(testX$Supera, Supera_pred, prop.chisq=FALSE, prop.c=FALSE, prop.r=FALSE,\n",
    "           dnn = c('actual Supera','predicted Supera'))"
   ]
  }
 ],
 "metadata": {
  "anaconda-cloud": {},
  "kernelspec": {
   "display_name": "R",
   "language": "R",
   "name": "ir"
  },
  "language_info": {
   "codemirror_mode": "r",
   "file_extension": ".r",
   "mimetype": "text/x-r-source",
   "name": "R",
   "pygments_lexer": "r",
   "version": "3.5.1"
  }
 },
 "nbformat": 4,
 "nbformat_minor": 1
}
