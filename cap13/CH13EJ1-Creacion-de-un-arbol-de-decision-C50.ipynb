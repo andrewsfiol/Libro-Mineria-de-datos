{
 "cells": [
  {
   "cell_type": "markdown",
   "metadata": {},
   "source": [
    "<div style=\"width: 100%; clear: both;\">\n",
    "<div style=\"float: left; width: 50%;\">\n",
    "<img src=\"http://www.uoc.edu/portal/_resources/common/imatges/marca_UOC/UOC_Masterbrand.jpg\" align=\"left\">\n",
    "</div>\n",
    "<div style=\"float: right; width: 50%;\">\n",
    "<p style=\"margin: 0; padding-top: 22px; text-align:right;\"><a href=\"http://www.editorialuoc.cat/mineria-de-datos\" target=\"_blank\">Minería de datos: Modelos y algoritmos</a></p>\n",
    "<p style=\"margin: 0; text-align:right;\">Estudios de Informática, Multimedia y Telecomunicación</p>\n",
    "<p style=\"margin: 0; text-align:right; padding-button: 100px;\">Universitat Oberta de Catalunya (<b>UOC</b>)</p>\n",
    "</div>\n",
    "</div>\n",
    "<div style=\"width:100%;\">&nbsp;</div>"
   ]
  },
  {
   "cell_type": "markdown",
   "metadata": {
    "nbpresent": {
     "id": "ea6cb8e6-4d3d-45c8-abc9-44f65205068f"
    }
   },
   "source": [
    "# CH13EJ1 Creación de un árbol de decisión con el algoritmo C5.0"
   ]
  },
  {
   "cell_type": "markdown",
   "metadata": {},
   "source": [
    "En este ejemplo se muestra como generar un árbol C5.0 con opciones básicas"
   ]
  },
  {
   "cell_type": "markdown",
   "metadata": {},
   "source": [
    "## 1. Instalar los packages necesarios "
   ]
  },
  {
   "cell_type": "code",
   "execution_count": 1,
   "metadata": {},
   "outputs": [
    {
     "name": "stderr",
     "output_type": "stream",
     "text": [
      "Loading required package: C50\n",
      "\n",
      "Warning message in library(package, lib.loc = lib.loc, character.only = TRUE, logical.return = TRUE, :\n",
      "“there is no package called ‘C50’”\n",
      "also installing the dependencies ‘inum’, ‘partykit’, ‘Cubist’\n",
      "\n",
      "\n"
     ]
    },
    {
     "name": "stdout",
     "output_type": "stream",
     "text": [
      "\n",
      "  There are binary versions available but the source versions are later:\n",
      "         binary  source needs_compilation\n",
      "partykit  1.2-7  1.2-10              TRUE\n",
      "C50       0.1.3 0.1.3.1              TRUE\n",
      "\n",
      "\n",
      "The downloaded binary packages are in\n",
      "\t/var/folders/ng/861lyhkn7n71xz1qgsbxbk40x59kk6/T//RtmpwrMSJK/downloaded_packages\n"
     ]
    },
    {
     "name": "stderr",
     "output_type": "stream",
     "text": [
      "installing the source packages ‘partykit’, ‘C50’\n",
      "\n",
      "\n",
      "Loading required package: C50\n",
      "\n"
     ]
    }
   ],
   "source": [
    "if(!require(C50)){\n",
    "    install.packages('C50',repos='http://cran.es.r-project.org')\n",
    "    require(C50)\n",
    "}\n",
    "set.seed(5813)"
   ]
  },
  {
   "cell_type": "markdown",
   "metadata": {
    "nbpresent": {
     "id": "fafb1f54-b4ab-4c2e-bc0d-c723f2c6814d"
    }
   },
   "source": [
    "## 2. Carga de los datos"
   ]
  },
  {
   "cell_type": "code",
   "execution_count": 2,
   "metadata": {
    "nbpresent": {
     "id": "352d9955-18b6-49b7-a343-102b723bf3cd"
    }
   },
   "outputs": [
    {
     "data": {
      "text/html": [
       "<table>\n",
       "<caption>A data.frame: 6 × 34</caption>\n",
       "<thead>\n",
       "\t<tr><th></th><th scope=col>school</th><th scope=col>sex</th><th scope=col>age</th><th scope=col>address</th><th scope=col>famsize</th><th scope=col>Pstatus</th><th scope=col>Medu</th><th scope=col>Fedu</th><th scope=col>Mjob</th><th scope=col>Fjob</th><th scope=col>⋯</th><th scope=col>freetime</th><th scope=col>goout</th><th scope=col>Dalc</th><th scope=col>Walc</th><th scope=col>health</th><th scope=col>absences</th><th scope=col>G1</th><th scope=col>G2</th><th scope=col>G3</th><th scope=col>Supera</th></tr>\n",
       "\t<tr><th></th><th scope=col>&lt;fct&gt;</th><th scope=col>&lt;fct&gt;</th><th scope=col>&lt;int&gt;</th><th scope=col>&lt;fct&gt;</th><th scope=col>&lt;fct&gt;</th><th scope=col>&lt;fct&gt;</th><th scope=col>&lt;fct&gt;</th><th scope=col>&lt;fct&gt;</th><th scope=col>&lt;fct&gt;</th><th scope=col>&lt;fct&gt;</th><th scope=col>⋯</th><th scope=col>&lt;int&gt;</th><th scope=col>&lt;int&gt;</th><th scope=col>&lt;int&gt;</th><th scope=col>&lt;int&gt;</th><th scope=col>&lt;int&gt;</th><th scope=col>&lt;int&gt;</th><th scope=col>&lt;int&gt;</th><th scope=col>&lt;int&gt;</th><th scope=col>&lt;int&gt;</th><th scope=col>&lt;fct&gt;</th></tr>\n",
       "</thead>\n",
       "<tbody>\n",
       "\t<tr><th scope=row>225</th><td>GP</td><td>F</td><td>19</td><td>U</td><td>GT3</td><td>T</td><td>Secundaria</td><td>Secundaria       </td><td>other   </td><td>other   </td><td>⋯</td><td>3</td><td>3</td><td>1</td><td>2</td><td>3</td><td>4</td><td>12</td><td>12</td><td>12</td><td>Si</td></tr>\n",
       "\t<tr><th scope=row>81</th><td>GP</td><td>M</td><td>15</td><td>U</td><td>GT3</td><td>T</td><td>Grado_9   </td><td>Secundaria       </td><td>other   </td><td>services</td><td>⋯</td><td>2</td><td>2</td><td>1</td><td>3</td><td>3</td><td>0</td><td>11</td><td>11</td><td>12</td><td>Si</td></tr>\n",
       "\t<tr><th scope=row>916</th><td>GP</td><td>M</td><td>17</td><td>U</td><td>GT3</td><td>T</td><td>Secundaria</td><td>Primaria_Superior</td><td>services</td><td>other   </td><td>⋯</td><td>4</td><td>4</td><td>3</td><td>4</td><td>5</td><td>2</td><td> 9</td><td> 9</td><td>10</td><td>Si</td></tr>\n",
       "\t<tr><th scope=row>908</th><td>GP</td><td>M</td><td>18</td><td>U</td><td>GT3</td><td>T</td><td>Grado_9   </td><td>Primaria_Superior</td><td>other   </td><td>other   </td><td>⋯</td><td>2</td><td>4</td><td>1</td><td>2</td><td>4</td><td>8</td><td>15</td><td>14</td><td>14</td><td>Si</td></tr>\n",
       "\t<tr><th scope=row>211</th><td>GP</td><td>M</td><td>17</td><td>U</td><td>GT3</td><td>T</td><td>Superior  </td><td>Superior         </td><td>services</td><td>teacher </td><td>⋯</td><td>2</td><td>3</td><td>1</td><td>2</td><td>5</td><td>4</td><td>13</td><td>13</td><td>14</td><td>Si</td></tr>\n",
       "\t<tr><th scope=row>50</th><td>GP</td><td>F</td><td>15</td><td>U</td><td>GT3</td><td>T</td><td>Superior  </td><td>Superior         </td><td>services</td><td>teacher </td><td>⋯</td><td>4</td><td>4</td><td>1</td><td>1</td><td>3</td><td>2</td><td>13</td><td>12</td><td>12</td><td>Si</td></tr>\n",
       "</tbody>\n",
       "</table>\n"
      ],
      "text/latex": [
       "A data.frame: 6 × 34\n",
       "\\begin{tabular}{r|lllllllllllllllllllll}\n",
       "  & school & sex & age & address & famsize & Pstatus & Medu & Fedu & Mjob & Fjob & ⋯ & freetime & goout & Dalc & Walc & health & absences & G1 & G2 & G3 & Supera\\\\\n",
       "  & <fct> & <fct> & <int> & <fct> & <fct> & <fct> & <fct> & <fct> & <fct> & <fct> & ⋯ & <int> & <int> & <int> & <int> & <int> & <int> & <int> & <int> & <int> & <fct>\\\\\n",
       "\\hline\n",
       "\t225 & GP & F & 19 & U & GT3 & T & Secundaria & Secundaria        & other    & other    & ⋯ & 3 & 3 & 1 & 2 & 3 & 4 & 12 & 12 & 12 & Si\\\\\n",
       "\t81 & GP & M & 15 & U & GT3 & T & Grado\\_9    & Secundaria        & other    & services & ⋯ & 2 & 2 & 1 & 3 & 3 & 0 & 11 & 11 & 12 & Si\\\\\n",
       "\t916 & GP & M & 17 & U & GT3 & T & Secundaria & Primaria\\_Superior & services & other    & ⋯ & 4 & 4 & 3 & 4 & 5 & 2 &  9 &  9 & 10 & Si\\\\\n",
       "\t908 & GP & M & 18 & U & GT3 & T & Grado\\_9    & Primaria\\_Superior & other    & other    & ⋯ & 2 & 4 & 1 & 2 & 4 & 8 & 15 & 14 & 14 & Si\\\\\n",
       "\t211 & GP & M & 17 & U & GT3 & T & Superior   & Superior          & services & teacher  & ⋯ & 2 & 3 & 1 & 2 & 5 & 4 & 13 & 13 & 14 & Si\\\\\n",
       "\t50 & GP & F & 15 & U & GT3 & T & Superior   & Superior          & services & teacher  & ⋯ & 4 & 4 & 1 & 1 & 3 & 2 & 13 & 12 & 12 & Si\\\\\n",
       "\\end{tabular}\n"
      ],
      "text/markdown": [
       "\n",
       "A data.frame: 6 × 34\n",
       "\n",
       "| <!--/--> | school &lt;fct&gt; | sex &lt;fct&gt; | age &lt;int&gt; | address &lt;fct&gt; | famsize &lt;fct&gt; | Pstatus &lt;fct&gt; | Medu &lt;fct&gt; | Fedu &lt;fct&gt; | Mjob &lt;fct&gt; | Fjob &lt;fct&gt; | ⋯ ⋯ | freetime &lt;int&gt; | goout &lt;int&gt; | Dalc &lt;int&gt; | Walc &lt;int&gt; | health &lt;int&gt; | absences &lt;int&gt; | G1 &lt;int&gt; | G2 &lt;int&gt; | G3 &lt;int&gt; | Supera &lt;fct&gt; |\n",
       "|---|---|---|---|---|---|---|---|---|---|---|---|---|---|---|---|---|---|---|---|---|---|\n",
       "| 225 | GP | F | 19 | U | GT3 | T | Secundaria | Secundaria        | other    | other    | ⋯ | 3 | 3 | 1 | 2 | 3 | 4 | 12 | 12 | 12 | Si |\n",
       "| 81 | GP | M | 15 | U | GT3 | T | Grado_9    | Secundaria        | other    | services | ⋯ | 2 | 2 | 1 | 3 | 3 | 0 | 11 | 11 | 12 | Si |\n",
       "| 916 | GP | M | 17 | U | GT3 | T | Secundaria | Primaria_Superior | services | other    | ⋯ | 4 | 4 | 3 | 4 | 5 | 2 |  9 |  9 | 10 | Si |\n",
       "| 908 | GP | M | 18 | U | GT3 | T | Grado_9    | Primaria_Superior | other    | other    | ⋯ | 2 | 4 | 1 | 2 | 4 | 8 | 15 | 14 | 14 | Si |\n",
       "| 211 | GP | M | 17 | U | GT3 | T | Superior   | Superior          | services | teacher  | ⋯ | 2 | 3 | 1 | 2 | 5 | 4 | 13 | 13 | 14 | Si |\n",
       "| 50 | GP | F | 15 | U | GT3 | T | Superior   | Superior          | services | teacher  | ⋯ | 4 | 4 | 1 | 1 | 3 | 2 | 13 | 12 | 12 | Si |\n",
       "\n"
      ],
      "text/plain": [
       "    school sex age address famsize Pstatus Medu       Fedu             \n",
       "225 GP     F   19  U       GT3     T       Secundaria Secundaria       \n",
       "81  GP     M   15  U       GT3     T       Grado_9    Secundaria       \n",
       "916 GP     M   17  U       GT3     T       Secundaria Primaria_Superior\n",
       "908 GP     M   18  U       GT3     T       Grado_9    Primaria_Superior\n",
       "211 GP     M   17  U       GT3     T       Superior   Superior         \n",
       "50  GP     F   15  U       GT3     T       Superior   Superior         \n",
       "    Mjob     Fjob     ⋯ freetime goout Dalc Walc health absences G1 G2 G3\n",
       "225 other    other    ⋯ 3        3     1    2    3      4        12 12 12\n",
       "81  other    services ⋯ 2        2     1    3    3      0        11 11 12\n",
       "916 services other    ⋯ 4        4     3    4    5      2         9  9 10\n",
       "908 other    other    ⋯ 2        4     1    2    4      8        15 14 14\n",
       "211 services teacher  ⋯ 2        3     1    2    5      4        13 13 14\n",
       "50  services teacher  ⋯ 4        4     1    1    3      2        13 12 12\n",
       "    Supera\n",
       "225 Si    \n",
       "81  Si    \n",
       "916 Si    \n",
       "908 Si    \n",
       "211 Si    \n",
       "50  Si    "
      ]
     },
     "metadata": {},
     "output_type": "display_data"
    }
   ],
   "source": [
    "Alumnos_usos_sociales <-read.csv(\"../data/B2.332_Students.csv\",comment.char = \"#\")\n",
    "\n",
    "# Reordenar al azar los datos\n",
    "Alumnos_usos_sociales <- Alumnos_usos_sociales[sample(nrow(Alumnos_usos_sociales)),]\n",
    "\n",
    "# Visualizamos el resultado \n",
    "head(Alumnos_usos_sociales)"
   ]
  },
  {
   "cell_type": "markdown",
   "metadata": {},
   "source": [
    "Preparamos los datos para crear el modelo y particionamos el conjunto de entrada en dos (training y test set) "
   ]
  },
  {
   "cell_type": "code",
   "execution_count": 3,
   "metadata": {},
   "outputs": [
    {
     "data": {
      "text/html": [
       "<table>\n",
       "<caption>A data.frame: 6 × 7</caption>\n",
       "<thead>\n",
       "\t<tr><th></th><th scope=col>sex</th><th scope=col>age</th><th scope=col>studytime</th><th scope=col>failures</th><th scope=col>schoolsup</th><th scope=col>famsup</th><th scope=col>absences</th></tr>\n",
       "\t<tr><th></th><th scope=col>&lt;fct&gt;</th><th scope=col>&lt;int&gt;</th><th scope=col>&lt;fct&gt;</th><th scope=col>&lt;int&gt;</th><th scope=col>&lt;fct&gt;</th><th scope=col>&lt;fct&gt;</th><th scope=col>&lt;int&gt;</th></tr>\n",
       "</thead>\n",
       "<tbody>\n",
       "\t<tr><th scope=row>225</th><td>F</td><td>19</td><td>Sup. 10h. </td><td>0</td><td>no </td><td>yes</td><td>4</td></tr>\n",
       "\t<tr><th scope=row>81</th><td>M</td><td>15</td><td>Inf. a 2h </td><td>0</td><td>yes</td><td>yes</td><td>0</td></tr>\n",
       "\t<tr><th scope=row>916</th><td>M</td><td>17</td><td>De 2h a 5h</td><td>0</td><td>no </td><td>no </td><td>2</td></tr>\n",
       "\t<tr><th scope=row>908</th><td>M</td><td>18</td><td>De 2h a 5h</td><td>0</td><td>no </td><td>no </td><td>8</td></tr>\n",
       "\t<tr><th scope=row>211</th><td>M</td><td>17</td><td>Inf. a 2h </td><td>0</td><td>no </td><td>no </td><td>4</td></tr>\n",
       "\t<tr><th scope=row>50</th><td>F</td><td>15</td><td>De 2h a 5h</td><td>0</td><td>yes</td><td>yes</td><td>2</td></tr>\n",
       "</tbody>\n",
       "</table>\n"
      ],
      "text/latex": [
       "A data.frame: 6 × 7\n",
       "\\begin{tabular}{r|lllllll}\n",
       "  & sex & age & studytime & failures & schoolsup & famsup & absences\\\\\n",
       "  & <fct> & <int> & <fct> & <int> & <fct> & <fct> & <int>\\\\\n",
       "\\hline\n",
       "\t225 & F & 19 & Sup. 10h.  & 0 & no  & yes & 4\\\\\n",
       "\t81 & M & 15 & Inf. a 2h  & 0 & yes & yes & 0\\\\\n",
       "\t916 & M & 17 & De 2h a 5h & 0 & no  & no  & 2\\\\\n",
       "\t908 & M & 18 & De 2h a 5h & 0 & no  & no  & 8\\\\\n",
       "\t211 & M & 17 & Inf. a 2h  & 0 & no  & no  & 4\\\\\n",
       "\t50 & F & 15 & De 2h a 5h & 0 & yes & yes & 2\\\\\n",
       "\\end{tabular}\n"
      ],
      "text/markdown": [
       "\n",
       "A data.frame: 6 × 7\n",
       "\n",
       "| <!--/--> | sex &lt;fct&gt; | age &lt;int&gt; | studytime &lt;fct&gt; | failures &lt;int&gt; | schoolsup &lt;fct&gt; | famsup &lt;fct&gt; | absences &lt;int&gt; |\n",
       "|---|---|---|---|---|---|---|---|\n",
       "| 225 | F | 19 | Sup. 10h.  | 0 | no  | yes | 4 |\n",
       "| 81 | M | 15 | Inf. a 2h  | 0 | yes | yes | 0 |\n",
       "| 916 | M | 17 | De 2h a 5h | 0 | no  | no  | 2 |\n",
       "| 908 | M | 18 | De 2h a 5h | 0 | no  | no  | 8 |\n",
       "| 211 | M | 17 | Inf. a 2h  | 0 | no  | no  | 4 |\n",
       "| 50 | F | 15 | De 2h a 5h | 0 | yes | yes | 2 |\n",
       "\n"
      ],
      "text/plain": [
       "    sex age studytime  failures schoolsup famsup absences\n",
       "225 F   19  Sup. 10h.  0        no        yes    4       \n",
       "81  M   15  Inf. a 2h  0        yes       yes    0       \n",
       "916 M   17  De 2h a 5h 0        no        no     2       \n",
       "908 M   18  De 2h a 5h 0        no        no     8       \n",
       "211 M   17  Inf. a 2h  0        no        no     4       \n",
       "50  F   15  De 2h a 5h 0        yes       yes    2       "
      ]
     },
     "metadata": {},
     "output_type": "display_data"
    }
   ],
   "source": [
    "# Asignamos a X las variables para construir el arbol\n",
    "X <- Alumnos_usos_sociales[,c(\"sex\",\"age\",\"studytime\",\"failures\",\"schoolsup\",\"famsup\",\"absences\")]\n",
    "head(X)\n",
    "\n",
    "# Asignamos a Y si supera o no el curso\n",
    "Y <- Alumnos_usos_sociales[,34]\n",
    "\n",
    "# conjunto de entreno\n",
    "trainX <- X[1:731,]\n",
    "trainY <- Y[1:731]\n",
    "# conjunto de test\n",
    "testX <- X[732:1044,]\n",
    "testY <- Y[732:1044]\n"
   ]
  },
  {
   "cell_type": "markdown",
   "metadata": {
    "collapsed": true
   },
   "source": [
    "## 3. Creación de los modelos\n",
    "\n",
    "Creación de varios modelos de árboles"
   ]
  },
  {
   "cell_type": "markdown",
   "metadata": {},
   "source": [
    "### Creamos un primer modelo de árbol. \n",
    "\n",
    "Extraemos el modelo en formato texto"
   ]
  },
  {
   "cell_type": "code",
   "execution_count": 7,
   "metadata": {},
   "outputs": [
    {
     "name": "stdout",
     "output_type": "stream",
     "text": [
      "c50 code called exit with value 1\n"
     ]
    },
    {
     "data": {
      "text/plain": [
       "\n",
       "Call:\n",
       "C5.0.default(x = trainX, y = trainY)\n",
       "\n",
       "\n",
       "C5.0 [Release 2.07 GPL Edition]  \tTue Oct 20 16:42:29 2020\n",
       "-------------------------------\n",
       "\n",
       "*** line 8 of `undefined.names': `:' or `:=' expected after attribute name `a 2h'\n",
       "\n",
       "Error limit exceeded\n"
      ]
     },
     "metadata": {},
     "output_type": "display_data"
    }
   ],
   "source": [
    "# Generamos el modelo y observamos el resultado\n",
    "model <- C5.0(trainX, trainY)\n",
    "summary(model)"
   ]
  },
  {
   "cell_type": "markdown",
   "metadata": {},
   "source": [
    "### Creamos un segundo modelo de árbol. \n",
    "\n",
    "Extraemos el modelo en formato texto y gráfico."
   ]
  },
  {
   "cell_type": "code",
   "execution_count": 8,
   "metadata": {},
   "outputs": [
    {
     "name": "stdout",
     "output_type": "stream",
     "text": [
      "c50 code called exit with value 1\n"
     ]
    },
    {
     "data": {
      "text/plain": [
       "\n",
       "Call:\n",
       "C5.0.default(x = trainX, y = trainY)\n",
       "\n",
       "\n",
       "C5.0 [Release 2.07 GPL Edition]  \tTue Oct 20 16:42:48 2020\n",
       "-------------------------------\n",
       "\n",
       "*** line 8 of `undefined.names': `:' or `:=' expected after attribute name `a 2h'\n",
       "\n",
       "Error limit exceeded\n"
      ]
     },
     "metadata": {},
     "output_type": "display_data"
    },
    {
     "ename": "ERROR",
     "evalue": "Error in 1:which(out == \"Decision tree:\"): argument of length 0\n",
     "output_type": "error",
     "traceback": [
      "Error in 1:which(out == \"Decision tree:\"): argument of length 0\nTraceback:\n",
      "1. plot(model)",
      "2. plot.C5.0(model)",
      "3. as.party(x, trial = trial)",
      "4. as.party.C5.0(x, trial = trial)"
     ]
    }
   ],
   "source": [
    "# Redefinimos X\n",
    "X <- Alumnos_usos_sociales[,c(\"sex\",\"age\",\"studytime\",\"failures\",\"schoolsup\")]\n",
    "\n",
    "# Redefinimos el conjunto de entreno y el conjunto de test\n",
    "trainX <- X[1:800,]\n",
    "testX <- X[801:1044,]\n",
    "trainY <- Y[1:800]\n",
    "\n",
    "# Generacion modelo\n",
    "model <- C5.0(trainX,trainY)\n",
    "summary(model)\n",
    "\n",
    "# Dibujamos el arbol \n",
    "plot(model)"
   ]
  },
  {
   "cell_type": "markdown",
   "metadata": {},
   "source": [
    "### Creamos un tercer modelo de árbol con opció de generar reglas. \n",
    "\n",
    "Extraemos las reglas del modelo."
   ]
  },
  {
   "cell_type": "code",
   "execution_count": 10,
   "metadata": {},
   "outputs": [
    {
     "name": "stdout",
     "output_type": "stream",
     "text": [
      "c50 code called exit with value 1\n"
     ]
    },
    {
     "data": {
      "text/plain": [
       "\n",
       "Call:\n",
       "C5.0.default(x = trainX, y = trainY, rules = TRUE)\n",
       "\n",
       "\n",
       "C5.0 [Release 2.07 GPL Edition]  \tTue Oct 20 16:44:10 2020\n",
       "-------------------------------\n",
       "\n",
       "*** line 8 of `undefined.names': `:' or `:=' expected after attribute name `a 2h'\n",
       "\n",
       "Error limit exceeded\n"
      ]
     },
     "metadata": {},
     "output_type": "display_data"
    }
   ],
   "source": [
    "model <- C5.0(trainX,trainY,rules=TRUE)\n",
    "summary(model)"
   ]
  },
  {
   "cell_type": "markdown",
   "metadata": {
    "collapsed": true
   },
   "source": [
    "### Calculo de la capacidad predictiva del modelo a partir del conjunto de test "
   ]
  },
  {
   "cell_type": "code",
   "execution_count": 8,
   "metadata": {},
   "outputs": [
    {
     "name": "stderr",
     "output_type": "stream",
     "text": [
      "Warning message in is.na(e1) | is.na(e2):\n",
      "“longer object length is not a multiple of shorter object length”Warning message in `==.default`(p, testY):\n",
      "“longer object length is not a multiple of shorter object length”"
     ]
    },
    {
     "data": {
      "text/html": [
       "0.811475409836066"
      ],
      "text/latex": [
       "0.811475409836066"
      ],
      "text/markdown": [
       "0.811475409836066"
      ],
      "text/plain": [
       "[1] 0.8114754"
      ]
     },
     "metadata": {},
     "output_type": "display_data"
    }
   ],
   "source": [
    "p <-predict(model,testX,type=\"class\")\n",
    "sum(p==testY)/length(p)"
   ]
  }
 ],
 "metadata": {
  "anaconda-cloud": {},
  "kernelspec": {
   "display_name": "R",
   "language": "R",
   "name": "ir"
  },
  "language_info": {
   "codemirror_mode": "r",
   "file_extension": ".r",
   "mimetype": "text/x-r-source",
   "name": "R",
   "pygments_lexer": "r",
   "version": "3.5.1"
  }
 },
 "nbformat": 4,
 "nbformat_minor": 1
}
